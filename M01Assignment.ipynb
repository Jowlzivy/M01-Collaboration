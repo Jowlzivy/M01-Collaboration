{
 "cells": [
  {
   "cell_type": "code",
   "execution_count": 1,
   "id": "0a34cda8",
   "metadata": {},
   "outputs": [
    {
     "name": "stdout",
     "output_type": "stream",
     "text": [
      "3600\n",
      "86400\n",
      "24.0\n",
      "24\n"
     ]
    }
   ],
   "source": [
    "seconds = 60\n",
    "minutes = 60\n",
    "seconds_per_hour = (seconds * minutes)\n",
    "seconds_per_day = ( seconds_per_hour * 24)\n",
    "Hours_per_day =(seconds_per_day/seconds_per_hour)\n",
    "Rounded_hours_per_day = (seconds_per_day//seconds_per_hour)\n",
    "print (seconds_per_hour)\n",
    "print (seconds_per_day)\n",
    "print (Hours_per_day)\n",
    "print (Rounded_hours_per_day)"
   ]
  }
 ],
 "metadata": {
  "kernelspec": {
   "display_name": "Python 3 (ipykernel)",
   "language": "python",
   "name": "python3"
  },
  "language_info": {
   "codemirror_mode": {
    "name": "ipython",
    "version": 3
   },
   "file_extension": ".py",
   "mimetype": "text/x-python",
   "name": "python",
   "nbconvert_exporter": "python",
   "pygments_lexer": "ipython3",
   "version": "3.10.9"
  }
 },
 "nbformat": 4,
 "nbformat_minor": 5
}
