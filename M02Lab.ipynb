{
 "cells": [
  {
   "cell_type": "code",
   "execution_count": null,
   "id": "19e606c4",
   "metadata": {},
   "outputs": [],
   "source": [
    "i = float(0);\n",
    "LastName = ' '\n",
    "\n",
    "while LastName != 'ZZZ' and i != 10:\n",
    "    LastName = input('What is your last name?')\n",
    "    if LastName == 'ZZZ':\n",
    "        break\n",
    "    FirstName = input('What is your first name?')\n",
    "    GPA = float(input('What is your GPA?'))\n",
    "\n",
    "    if GPA >= 3.5:\n",
    "        print(\"Student has made the Dean's list\")\n",
    "        i += 1\n",
    "    elif GPA >= 3.25:\n",
    "        print('Student has made the Honor Roll')\n",
    "        i += 1\n",
    "    else:\n",
    "        print(\"Student did not make Dean's list nor Honor Roll\")"
   ]
  },
  {
   "cell_type": "code",
   "execution_count": null,
   "id": "bdd551e7",
   "metadata": {},
   "outputs": [],
   "source": []
  }
 ],
 "metadata": {
  "kernelspec": {
   "display_name": "Python 3 (ipykernel)",
   "language": "python",
   "name": "python3"
  },
  "language_info": {
   "codemirror_mode": {
    "name": "ipython",
    "version": 3
   },
   "file_extension": ".py",
   "mimetype": "text/x-python",
   "name": "python",
   "nbconvert_exporter": "python",
   "pygments_lexer": "ipython3",
   "version": "3.10.9"
  }
 },
 "nbformat": 4,
 "nbformat_minor": 5
}
